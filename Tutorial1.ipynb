{
  "nbformat": 4,
  "nbformat_minor": 0,
  "metadata": {
    "colab": {
      "provenance": [],
      "toc_visible": true,
      "include_colab_link": true
    },
    "kernelspec": {
      "name": "python3",
      "display_name": "Python 3"
    },
    "language_info": {
      "name": "python"
    }
  },
  "cells": [
    {
      "cell_type": "markdown",
      "metadata": {
        "id": "view-in-github",
        "colab_type": "text"
      },
      "source": [
        "<a href=\"https://colab.research.google.com/github/IvankoPilotOfHalychyna/Foundations_AI/blob/main/Tutorial1.ipynb\" target=\"_parent\"><img src=\"https://colab.research.google.com/assets/colab-badge.svg\" alt=\"Open In Colab\"/></a>"
      ]
    },
    {
      "cell_type": "markdown",
      "source": [
        "# Tutorial 1"
      ],
      "metadata": {
        "id": "Z-M--VIdAJZf"
      }
    },
    {
      "cell_type": "markdown",
      "source": [
        "During the first few exercises, we will work with Google Colab. We will learn the basics of adding new scripts, saving them in a repository, as well as the fundamentals of working with data types, variables, and other basic constructs that you already know from Java."
      ],
      "metadata": {
        "id": "w0uXdskKAFN9"
      }
    },
    {
      "cell_type": "markdown",
      "source": [
        "## Introduction"
      ],
      "metadata": {
        "id": "ObUSshCKmC6N"
      }
    },
    {
      "cell_type": "markdown",
      "source": [
        "### Displaying data"
      ],
      "metadata": {
        "id": "AdoGP3sjmG5r"
      }
    },
    {
      "cell_type": "code",
      "source": [
        "print(\"Hello, world!\")\n",
        "print(\"Hello,\", \"Anna\")   # several elements can be combined"
      ],
      "metadata": {
        "id": "QCJ3Rbi-l7HV"
      },
      "execution_count": null,
      "outputs": []
    },
    {
      "cell_type": "markdown",
      "source": [
        "### Variables and data types"
      ],
      "metadata": {
        "id": "oXG-ghfMmK0d"
      }
    },
    {
      "cell_type": "markdown",
      "source": [
        "A variable is created simply by assigning a value:"
      ],
      "metadata": {
        "id": "-B8HTxE4mQ5a"
      }
    },
    {
      "cell_type": "code",
      "source": [
        "x = 10          # integer (int)\n",
        "y = 3.14        # floating-point number (float)\n",
        "name = \"John\"   # string (str)\n",
        "student = True  # boolean value (bool)"
      ],
      "metadata": {
        "id": "DtGHwiMsmNKD"
      },
      "execution_count": null,
      "outputs": []
    },
    {
      "cell_type": "markdown",
      "source": [
        "Checking the variable type:"
      ],
      "metadata": {
        "id": "ltyQAS5MmiZV"
      }
    },
    {
      "cell_type": "code",
      "source": [
        "print(type(x))     # <class 'int'>\n",
        "print(type(name))  # <class 'str'>"
      ],
      "metadata": {
        "id": "9nsJQYK1mi-8"
      },
      "execution_count": null,
      "outputs": []
    },
    {
      "cell_type": "markdown",
      "source": [
        "### Arithmetic operators"
      ],
      "metadata": {
        "id": "FFMRo0BMmpu2"
      }
    },
    {
      "cell_type": "code",
      "source": [
        "a = 7\n",
        "b = 3\n",
        "print(a + b)    # addition → 10\n",
        "print(a - b)    # subtraction → 4\n",
        "print(a * b)    # multiplication → 21\n",
        "print(a / b)    # division → 2.333...\n",
        "print(a // b)   # integer division → 2\n",
        "print(a % b)    # remainder → 1\n",
        "print(a ** b)   # exponentiation → 343"
      ],
      "metadata": {
        "id": "dmD729kEmsHX"
      },
      "execution_count": null,
      "outputs": []
    },
    {
      "cell_type": "markdown",
      "source": [
        "### Comparison operators"
      ],
      "metadata": {
        "id": "lPlG__bam4Q-"
      }
    },
    {
      "cell_type": "code",
      "source": [
        "print(5 > 3)   # True\n",
        "print(5 == 3)  # False\n",
        "print(5 != 3)  # True"
      ],
      "metadata": {
        "id": "z5k3eaN4m6pJ"
      },
      "execution_count": null,
      "outputs": []
    },
    {
      "cell_type": "markdown",
      "source": [
        "### Type conversions"
      ],
      "metadata": {
        "id": "Qwa3_FxGm-af"
      }
    },
    {
      "cell_type": "code",
      "source": [
        "x = \"123\"\n",
        "y = int(x)     # conversion from string → int\n",
        "print(y + 10)  # 133\n",
        "z = str(456)   # conversion from int → string\n",
        "print(\"The number is \" + z)"
      ],
      "metadata": {
        "id": "_q3PZP1Im_4S"
      },
      "execution_count": null,
      "outputs": []
    },
    {
      "cell_type": "markdown",
      "source": [
        "### Getting input from the user"
      ],
      "metadata": {
        "id": "Ps8nblfVnMZk"
      }
    },
    {
      "cell_type": "code",
      "source": [
        "name = input(\"Enter your name: \")\n",
        "print(\"Hi,\", name)\n",
        "year = int(input(\"Enter your birth year: \"))\n",
        "age = 2025 - year\n",
        "print(\"You are\", age, \"years old.\")"
      ],
      "metadata": {
        "id": "VKLm-WUknN5B"
      },
      "execution_count": null,
      "outputs": []
    },
    {
      "cell_type": "markdown",
      "source": [
        "## Exercises 1–9"
      ],
      "metadata": {
        "id": "lDAWFxi_nmqq"
      }
    },
    {
      "cell_type": "markdown",
      "source": [
        "### Exercise 1  \n",
        "1. Create a variable named `x` with the value `10`.  \n",
        "2. Instruct the computer to show the value of this variable. Try doing it in two different ways: using the `print` function and without it.  \n",
        "3. Try to create four variables **a, b, c, d** and assign them the values **10, 20, 30, 40** in one line. Then print the result to the console.\n"
      ],
      "metadata": {
        "id": "w4zsMJGjnoz5"
      }
    },
    {
      "cell_type": "code",
      "source": [
        "x = 10\n",
        "print(x)\n",
        "a=10; b=20; c=30; d=40;\n",
        "print(a,b,c,d)"
      ],
      "metadata": {
        "id": "gtIdIIVooMRF"
      },
      "execution_count": null,
      "outputs": []
    },
    {
      "cell_type": "markdown",
      "source": [
        "### Exercise 2  \n",
        "Write a program that:  \n",
        "1. Assigns your name to the variable `name`.  \n",
        "2. Displays a message in the form:  \n",
        "``` Hello, [name]! ```"
      ],
      "metadata": {
        "id": "3GCTbPrxoWzO"
      }
    },
    {
      "cell_type": "code",
      "source": [
        "name='Ivan'\n",
        "print(\"Hello, \" + name)"
      ],
      "metadata": {
        "id": "kSdW01krogWx"
      },
      "execution_count": null,
      "outputs": []
    },
    {
      "cell_type": "markdown",
      "source": [
        "### Exercise 3  \n",
        "1. Create two variables: `a = 7`, `b = 3`  \n",
        "2. Calculate and display:  \n",
        "    * the sum,  \n",
        "    * the difference,  \n",
        "    * the product,  \n",
        "    * the quotient.  "
      ],
      "metadata": {
        "id": "T1ZLu6IForhk"
      }
    },
    {
      "cell_type": "code",
      "source": [
        "a=7; b=3;\n",
        "print(a+b)\n",
        "print(a-b)\n",
        "print(a*b)\n",
        "print(a/b)"
      ],
      "metadata": {
        "id": "MvN3LraXo44Y"
      },
      "execution_count": null,
      "outputs": []
    },
    {
      "cell_type": "markdown",
      "source": [
        "### Exercise 4  \n",
        "1. Create a variable `x = \"123\"`.  \n",
        "2. Convert `x` to an integer and add 10 to it.  \n",
        "3. Display the result as a string in the form:  \n",
        "```The result of the addition is: 133```"
      ],
      "metadata": {
        "id": "vQSCNzpupHCu"
      }
    },
    {
      "cell_type": "code",
      "source": [
        "x='123'\n",
        "x=int(x)\n",
        "x=x+10\n",
        "print('The result of addition is: ',x)"
      ],
      "metadata": {
        "id": "FVZrkGHdpWAG"
      },
      "execution_count": null,
      "outputs": []
    },
    {
      "cell_type": "markdown",
      "source": [
        "### Exercise 5  \n",
        "Write a program that:  \n",
        "1. Creates variables:  \n",
        " * `age = 20`  \n",
        " * `average = 4.75`  \n",
        " * `student = True`  \n",
        " * `name = \"Anna\"`  \n",
        "2. For each variable, prints its type, for example:  \n",
        "```The variable age is of type: <class 'int'>```"
      ],
      "metadata": {
        "id": "VkxxLwXSpfz_"
      }
    },
    {
      "cell_type": "code",
      "source": [
        "age=20\n",
        "average=4.75\n",
        "student= True\n",
        "name=\"Anna\"\n",
        "print(\"The variable age is of type: \", type(age))\n",
        "print(\"The variable average is of typ:e \", type(average))\n",
        "print(\"The variable student is of type: \", type(student))\n",
        "print(\"The variable name is of type: \", type(name))"
      ],
      "metadata": {
        "id": "O9NR0vCPpupn"
      },
      "execution_count": null,
      "outputs": []
    },
    {
      "cell_type": "markdown",
      "source": [
        "### Exercise 6  \n",
        "1. Ask the user to enter their birth year.  \n",
        "2. Calculate their age (assuming the current year is 2025).  \n",
        "3. Display the message:  \n",
        "```You are [age] years old.```"
      ],
      "metadata": {
        "id": "j7zl9uEnp-gl"
      }
    },
    {
      "cell_type": "code",
      "source": [
        "year = input(\"Enter your birth year: \")\n",
        "age=2025-int(year)\n",
        "print(\"You are \", age, \"years old\")"
      ],
      "metadata": {
        "id": "A5Z6kohfqEgI"
      },
      "execution_count": null,
      "outputs": []
    },
    {
      "cell_type": "markdown",
      "source": [
        "### Exercise 7  \n",
        "Write a function `calculator(a, b, op)`, where `op` is a symbol: `+`, `-`, `*`, `/`.\n",
        "\n",
        "The function should return the result of the operation, for example:\n",
        "```\n",
        "calculator(4, 2, \"+\")  # 6\n",
        "calculator(4, 2, \"/\")  # 2.0\n",
        "```"
      ],
      "metadata": {
        "id": "kKPc0E-pqHql"
      }
    },
    {
      "cell_type": "code",
      "source": [
        "def calculator(a, b, op):\n",
        "    if op == \"+\":\n",
        "        return a + b\n",
        "    elif op == \"-\":\n",
        "        return a - b\n",
        "    elif op == \"*\":\n",
        "        return a * b\n",
        "    elif op == \"/\":\n",
        "        return a / b\n",
        "    else:\n",
        "        return \"Invalid operator\"\n",
        "\n",
        "print(calculator(5,6,\"+\"))\n"
      ],
      "metadata": {
        "id": "iXJwuywHqZ7K"
      },
      "execution_count": null,
      "outputs": []
    },
    {
      "cell_type": "markdown",
      "source": [
        "### Exercise 8  \n",
        "Write a function `bmi(weight, height)` that:  \n",
        "* calculates the BMI index using the formula: BMI = $\\frac{\\text{weight}}{(\\text{height})^2}$\n",
        "* returns a message:  \n",
        "  * `< 18.5` → \"underweight\"  \n",
        "  * `18.5-24.9` → \"normal weight\"  \n",
        "  * `25-29.9` → \"overweight\"  \n"
      ],
      "metadata": {
        "id": "SmnSZBNcqa44"
      }
    },
    {
      "cell_type": "code",
      "source": [
        "def bmi(weight, height):\n",
        "  if (weight/(height*height))<18.5:\n",
        "    print(\"underweight\")\n",
        "  elif (weight/(height*height))>18.5 and (weight/(height*height))<24.9:\n",
        "    print(\"normal weight\")\n",
        "  elif (weight/(height*height))>25 and (weight/(height*height))<29.9:\n",
        "    print(\"overweight\")\n",
        "bmi(75,180)"
      ],
      "metadata": {
        "id": "aQ6yGtb3rHo-"
      },
      "execution_count": null,
      "outputs": []
    },
    {
      "cell_type": "markdown",
      "source": [
        "### Exercise 9  \n",
        "Write a function `tax(income)` that calculates the tax for a given income (`income`) according to the simplified system:  \n",
        "* up to 30,000 zł → 10%  \n",
        "* from 30,001 to 100,000 zł → 20%  \n",
        "* above 100,000 zł → 30%  "
      ],
      "metadata": {
        "id": "BoWjwX_V7vtO"
      }
    },
    {
      "cell_type": "code",
      "source": [
        "def tax(income):\n",
        "  if income<=30000:\n",
        "    print(income*0.1)\n",
        "  elif income>30000 and income<=100000:\n",
        "    print(income*0.2)\n",
        "  elif income>100000:\n",
        "    print(income*0.3)\n",
        "tax(42000)"
      ],
      "metadata": {
        "id": "l6a3woqo8MYA"
      },
      "execution_count": null,
      "outputs": []
    },
    {
      "cell_type": "markdown",
      "source": [
        "##  Loops, arrays, collections"
      ],
      "metadata": {
        "id": "7bLrzBjg8Gxw"
      }
    },
    {
      "cell_type": "markdown",
      "source": [
        "### Creating a list"
      ],
      "metadata": {
        "id": "XdDUAG8w8OeX"
      }
    },
    {
      "cell_type": "code",
      "source": [
        "numbers = [1, 2, 3, 4, 5]   # list with values\n",
        "empty = []                  # empty list\n",
        "mixed = [1, \"text\", 3.14]   # list with different types"
      ],
      "metadata": {
        "id": "o5IhvAfN8RZD"
      },
      "execution_count": null,
      "outputs": []
    },
    {
      "cell_type": "markdown",
      "source": [
        "### Basic operations"
      ],
      "metadata": {
        "id": "GMYDDjoE8ZPs"
      }
    },
    {
      "cell_type": "code",
      "source": [
        "numbers = [10, 20, 30, 40]\n",
        "\n",
        "print(numbers[0])           # access element → 10\n",
        "print(numbers[-1])          # last element → 40\n",
        "\n",
        "numbers.append(50)          # add element at the end\n",
        "numbers.insert(1, 15)       # insert element at index\n",
        "numbers.remove(30)          # removes first occurrence of 30\n",
        "numbers.pop()               # removes last element\n",
        "numbers.sort()              # sort ascending\n",
        "numbers.reverse()           # reverse order\n",
        "print(len(numbers))         # length of the list"
      ],
      "metadata": {
        "id": "jITFcgnR8bYn"
      },
      "execution_count": null,
      "outputs": []
    },
    {
      "cell_type": "markdown",
      "source": [
        "### Searching and checking"
      ],
      "metadata": {
        "id": "yM0wwlH48atX"
      }
    },
    {
      "cell_type": "code",
      "source": [
        "print(20 in numbers)        # True, checks for presence\n",
        "print(numbers.index(40))    # index of element 40"
      ],
      "metadata": {
        "id": "vFR5UxSs8qwz"
      },
      "execution_count": null,
      "outputs": []
    },
    {
      "cell_type": "markdown",
      "source": [
        "### Slicing (cutting out fragments)"
      ],
      "metadata": {
        "id": "zn1T3osJ8u1j"
      }
    },
    {
      "cell_type": "code",
      "source": [
        "print(numbers[1:3])   # from index 1 to 2\n",
        "print(numbers[:2])    # from the beginning to 1\n",
        "print(numbers[2:])    # from index 2 to the end\n",
        "print(numbers[::2])   # every second element"
      ],
      "metadata": {
        "id": "8LTBCG9V8xg6"
      },
      "execution_count": null,
      "outputs": []
    },
    {
      "cell_type": "markdown",
      "source": [
        "### Iteration over elements"
      ],
      "metadata": {
        "id": "OAxCun9384Zm"
      }
    },
    {
      "cell_type": "code",
      "source": [
        "for x in numbers:\n",
        " print(x)"
      ],
      "metadata": {
        "id": "pKr6xkfF857t"
      },
      "execution_count": null,
      "outputs": []
    },
    {
      "cell_type": "markdown",
      "source": [
        "### Iteration over indexes"
      ],
      "metadata": {
        "id": "oa2QQdxs886u"
      }
    },
    {
      "cell_type": "code",
      "source": [
        "for i in range(len(numbers)):\n",
        " print(i, numbers[i])"
      ],
      "metadata": {
        "id": "MTRC5zxw8-MW"
      },
      "execution_count": null,
      "outputs": []
    },
    {
      "cell_type": "markdown",
      "source": [
        "### Enumeration (index + value simultaneously)"
      ],
      "metadata": {
        "id": "MCJsrNut8_vn"
      }
    },
    {
      "cell_type": "code",
      "source": [
        "for i, value in enumerate(numbers):\n",
        " print(i, value)"
      ],
      "metadata": {
        "id": "YkN-5wSp9BFk"
      },
      "execution_count": null,
      "outputs": []
    },
    {
      "cell_type": "markdown",
      "source": [
        "### While loop"
      ],
      "metadata": {
        "id": "aaazWoE59CPg"
      }
    },
    {
      "cell_type": "code",
      "source": [
        " i = 0\n",
        " while i < len(numbers):\n",
        "  print(numbers[i])\n",
        "  i += 1"
      ],
      "metadata": {
        "id": "iIz3Jvog9D-a"
      },
      "execution_count": null,
      "outputs": []
    },
    {
      "cell_type": "markdown",
      "source": [
        "### List comprehension"
      ],
      "metadata": {
        "id": "AQkkdAS09GJX"
      }
    },
    {
      "cell_type": "code",
      "source": [
        "squares = [x**2 for x in numbers]\n",
        "print(squares)"
      ],
      "metadata": {
        "id": "kw9zv6xM9HcS"
      },
      "execution_count": null,
      "outputs": []
    },
    {
      "cell_type": "markdown",
      "source": [
        "## Exercise 10-14\n"
      ],
      "metadata": {
        "id": "5ZpI3uW79N4L"
      }
    },
    {
      "cell_type": "markdown",
      "source": [
        "### Exercise 10 - Reversing a list  \n",
        "Write a function that **reverses a list** without using the `reverse()` method or slicing with `[::-1]`.  \n",
        "\n",
        " (np. `[\"a\", \"b\", \"c\", \"d\"] → [\"d\", \"c\", \"b\", \"a\"]`)"
      ],
      "metadata": {
        "id": "NR8_pZh39SlW"
      }
    },
    {
      "cell_type": "code",
      "source": [
        "mas=[\"a\",\"b\",\"c\",\"d\"]\n",
        "def customReverse(list):\n",
        "  for i in range(int(len(list)/2)):\n",
        "    tmp = list[i]\n",
        "    list[i]=list[len(list)-i-1]\n",
        "    list[len(list)-i-1]=tmp\n",
        "  return list\n",
        "print(customReverse(mas))\n"
      ],
      "metadata": {
        "id": "8RR79mx39l9m",
        "colab": {
          "base_uri": "https://localhost:8080/"
        },
        "outputId": "33a16331-a296-401d-d58b-4664d8bb72cc"
      },
      "execution_count": null,
      "outputs": [
        {
          "output_type": "stream",
          "name": "stdout",
          "text": [
            "['d', 'c', 'b', 'a']\n"
          ]
        }
      ]
    },
    {
      "cell_type": "markdown",
      "source": [
        "### Exercise 11 - Counting occurrences  \n",
        "For the list:\n",
        "\n",
        "```fruits = [\"apple\", \"banana\", \"apple\", \"orange\", \"banana\", \"apple\"]```\n",
        "\n",
        "Count how many times each fruit appears and store the result in a dictionary, for example:\n",
        "\n",
        "```{\"apple\": 3, \"banana\": 2, \"orange\": 1}```\n"
      ],
      "metadata": {
        "id": "NqSEMiUI9Wqo"
      }
    },
    {
      "cell_type": "code",
      "source": [
        "fruits = [\"apple\", \"banana\", \"apple\", \"orange\", \"banana\", \"apple\"]\n",
        "dictionary={}\n",
        "for i in fruits:\n",
        "  if i in dictionary:\n",
        "    dictionary[i]+=1\n",
        "  else:\n",
        "    dictionary[i]=1\n",
        "print(dictionary)\n"
      ],
      "metadata": {
        "id": "GZRCP0Yx94Te",
        "colab": {
          "base_uri": "https://localhost:8080/"
        },
        "outputId": "531eed98-8a8f-45aa-ea2b-92e1a19bf733"
      },
      "execution_count": null,
      "outputs": [
        {
          "output_type": "stream",
          "name": "stdout",
          "text": [
            "{'apple': 3, 'banana': 2, 'orange': 1}\n"
          ]
        }
      ]
    },
    {
      "cell_type": "markdown",
      "source": [
        "### Exercise 12 - Data normalization  \n",
        "You have a list of values:  \n",
        "`data = [10, 20, 30, 40, 50]`\n",
        "\n",
        "Write a function `normalize(data)` that returns a list of values scaled to the range `[0, 1]` according to the formula:\n",
        "\n",
        "$ x' = \\frac{x - min}{max - min}$"
      ],
      "metadata": {
        "id": "5HmVLCM995Kl"
      }
    },
    {
      "cell_type": "code",
      "source": [
        "data = [10,20,30,40,50]\n",
        "def normalize(data):\n",
        "    min_val = min(data)\n",
        "    max_val = max(data)\n",
        "    return [(x - min_val) / (max_val - min_val) for x in data]\n",
        "print(normalize(data))\n"
      ],
      "metadata": {
        "id": "Kx4ApUK4-Zgy",
        "colab": {
          "base_uri": "https://localhost:8080/"
        },
        "outputId": "02979ab7-3c1d-49c3-91f2-20e09c9dd8c5"
      },
      "execution_count": null,
      "outputs": [
        {
          "output_type": "stream",
          "name": "stdout",
          "text": [
            "[0.0, 0.25, 0.5, 0.75, 1.0]\n"
          ]
        }
      ]
    },
    {
      "cell_type": "markdown",
      "source": [
        "### Exercise 13 - Bag of Words (word counting)  \n",
        "You have a list of sentences:  \n",
        "```\n",
        "sentences = [\n",
        " \"I like Python\",\n",
        " \"Python is great for AI\",\n",
        " \"I like AI\"\n",
        "]\n",
        " ```\n",
        "\n",
        "Write a function `bag_of_words(sentences)` that returns a dictionary with the frequency of each word.\n"
      ],
      "metadata": {
        "id": "MAnm4NFr-bBf"
      }
    },
    {
      "cell_type": "code",
      "source": [
        "def bag_of_words(sentences):\n",
        "    words = {}\n",
        "    for sentence in sentences:\n",
        "        for word in sentence.split():\n",
        "            word = word.lower()  # normalize case\n",
        "            words[word] = words.get(word, 0) + 1\n",
        "    return words\n",
        "sentences = [\n",
        "    \"I like Python\",\n",
        "    \"Python is great for AI\",\n",
        "    \"I like AI\"\n",
        "]\n",
        "print(bag_of_words(sentences))"
      ],
      "metadata": {
        "id": "j_rKdrv_-qF4",
        "colab": {
          "base_uri": "https://localhost:8080/"
        },
        "outputId": "04bf363d-3b78-4dbb-e5a8-9a1026b0e93c"
      },
      "execution_count": null,
      "outputs": [
        {
          "output_type": "stream",
          "name": "stdout",
          "text": [
            "{'i': 2, 'like': 2, 'python': 2, 'is': 1, 'great': 1, 'for': 1, 'ai': 2}\n"
          ]
        }
      ]
    },
    {
      "cell_type": "markdown",
      "source": [
        "### Exercise 14 - Perfect numbers  \n",
        "Write a function `is_perfect(n)` that checks if a number is **perfect**, meaning it is equal to the sum of its proper divisors.\n",
        "\n",
        "Example: `6` → divisors 1 + 2 + 3 = 6 → perfect number.\n"
      ],
      "metadata": {
        "id": "-OYCHz2Y-rko"
      }
    },
    {
      "cell_type": "code",
      "source": [
        "def is_perfect(n):\n",
        "    sum_divisors = 0\n",
        "    for i in range(1, n):\n",
        "        if n % i == 0:\n",
        "            sum_divisors += i\n",
        "    return sum_divisors == n\n",
        "print(is_perfect(6))"
      ],
      "metadata": {
        "id": "CkSi5HzX-6jX",
        "colab": {
          "base_uri": "https://localhost:8080/"
        },
        "outputId": "59a383c2-0ff6-4443-87c6-49db6959cc43"
      },
      "execution_count": null,
      "outputs": [
        {
          "output_type": "stream",
          "name": "stdout",
          "text": [
            "True\n"
          ]
        }
      ]
    }
  ]
}